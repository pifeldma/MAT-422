{
  "nbformat": 4,
  "nbformat_minor": 0,
  "metadata": {
    "colab": {
      "provenance": [],
      "authorship_tag": "ABX9TyPA4Oe5WA0fy2K1SmomPFmI",
      "include_colab_link": true
    },
    "kernelspec": {
      "name": "python3",
      "display_name": "Python 3"
    },
    "language_info": {
      "name": "python"
    }
  },
  "cells": [
    {
      "cell_type": "markdown",
      "metadata": {
        "id": "view-in-github",
        "colab_type": "text"
      },
      "source": [
        "<a href=\"https://colab.research.google.com/github/pifeldma/MAT-422/blob/main/HW2_2PF.ipynb\" target=\"_parent\"><img src=\"https://colab.research.google.com/assets/colab-badge.svg\" alt=\"Open In Colab\"/></a>"
      ]
    },
    {
      "cell_type": "markdown",
      "source": [
        "2.2 Probability Distribution\n",
        "\n",
        "sample space"
      ],
      "metadata": {
        "id": "Yh_PwM3GxR6d"
      }
    },
    {
      "cell_type": "code",
      "source": [
        "sample_space = {'Heads', 'Tails'}\n",
        "probability_heads = 1 / len(sample_space)\n",
        "print('The probability of choosing heads is')\n",
        "print(probability_heads)"
      ],
      "metadata": {
        "colab": {
          "base_uri": "https://localhost:8080/"
        },
        "id": "6Hgo_178yUwX",
        "outputId": "fda85871-e5ba-47a3-da85-c8a04f0a47b1"
      },
      "execution_count": 1,
      "outputs": [
        {
          "output_type": "stream",
          "name": "stdout",
          "text": [
            "The probability of choosing heads is\n",
            "0.5\n"
          ]
        }
      ]
    },
    {
      "cell_type": "markdown",
      "source": [
        "Conditional Probability"
      ],
      "metadata": {
        "id": "0Vb4F_JKy4Sq"
      }
    },
    {
      "cell_type": "code",
      "source": [
        "sample_space = {1,2,3,4,5,6}\n",
        "\n",
        "event_A = {1}\n",
        "event_B = {1,3,5}\n",
        "print('Our sample is')\n",
        "print(sample_space)\n",
        "print('The event of A is')\n",
        "print(event_A)\n",
        "print('The event of B is')\n",
        "print(event_B)\n",
        "prob_A = len(event_A)/len(sample_space)\n",
        "prob_B = len(event_B)/len(sample_space)\n",
        "\n",
        "event_A_intersect_B = event_A.intersection(event_B)\n",
        "prob_A_intersect_B = len(event_A_intersect_B)/len(sample_space)\n",
        "\n",
        "prob_A_given_B=prob_A_intersect_B/prob_B\n",
        "print('The probability of A given B is')\n",
        "print(prob_A_given_B)\n",
        "\n",
        "\n"
      ],
      "metadata": {
        "colab": {
          "base_uri": "https://localhost:8080/"
        },
        "id": "9tS3nBWjy9Iv",
        "outputId": "8cafdc26-a2a7-4eb0-c74b-52800e673592"
      },
      "execution_count": 11,
      "outputs": [
        {
          "output_type": "stream",
          "name": "stdout",
          "text": [
            "Our sample is\n",
            "{1, 2, 3, 4, 5, 6}\n",
            "The event of A is\n",
            "{1}\n",
            "The event of B is\n",
            "{1, 3, 5}\n",
            "The probability of A given B is\n",
            "0.3333333333333333\n"
          ]
        }
      ]
    }
  ]
}