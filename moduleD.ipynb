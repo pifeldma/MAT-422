{
  "nbformat": 4,
  "nbformat_minor": 0,
  "metadata": {
    "colab": {
      "provenance": [],
      "authorship_tag": "ABX9TyNKkS8L4/ArelmFTov82JMr",
      "include_colab_link": true
    },
    "kernelspec": {
      "name": "python3",
      "display_name": "Python 3"
    },
    "language_info": {
      "name": "python"
    }
  },
  "cells": [
    {
      "cell_type": "markdown",
      "metadata": {
        "id": "view-in-github",
        "colab_type": "text"
      },
      "source": [
        "<a href=\"https://colab.research.google.com/github/pifeldma/MAT-422/blob/main/moduleD.ipynb\" target=\"_parent\"><img src=\"https://colab.research.google.com/assets/colab-badge.svg\" alt=\"Open In Colab\"/></a>"
      ]
    },
    {
      "cell_type": "markdown",
      "source": [
        "Linear Algebra concepts such as linear space, orthogonality, eigenvalues.\n",
        "\n",
        "Linear regression."
      ],
      "metadata": {
        "id": "0fEdQmGspwnr"
      }
    },
    {
      "cell_type": "code",
      "source": [
        "import numpy as np\n",
        "np.linspace(1,20)"
      ],
      "metadata": {
        "colab": {
          "base_uri": "https://localhost:8080/"
        },
        "id": "ei1lW18UqAV9",
        "outputId": "3763128b-6077-4779-9d00-ecb981cd4451"
      },
      "execution_count": 3,
      "outputs": [
        {
          "output_type": "execute_result",
          "data": {
            "text/plain": [
              "array([ 1.        ,  1.3877551 ,  1.7755102 ,  2.16326531,  2.55102041,\n",
              "        2.93877551,  3.32653061,  3.71428571,  4.10204082,  4.48979592,\n",
              "        4.87755102,  5.26530612,  5.65306122,  6.04081633,  6.42857143,\n",
              "        6.81632653,  7.20408163,  7.59183673,  7.97959184,  8.36734694,\n",
              "        8.75510204,  9.14285714,  9.53061224,  9.91836735, 10.30612245,\n",
              "       10.69387755, 11.08163265, 11.46938776, 11.85714286, 12.24489796,\n",
              "       12.63265306, 13.02040816, 13.40816327, 13.79591837, 14.18367347,\n",
              "       14.57142857, 14.95918367, 15.34693878, 15.73469388, 16.12244898,\n",
              "       16.51020408, 16.89795918, 17.28571429, 17.67346939, 18.06122449,\n",
              "       18.44897959, 18.83673469, 19.2244898 , 19.6122449 , 20.        ])"
            ]
          },
          "metadata": {},
          "execution_count": 3
        }
      ]
    },
    {
      "cell_type": "code",
      "source": [
        "np.linspace(-5,5,15)"
      ],
      "metadata": {
        "colab": {
          "base_uri": "https://localhost:8080/"
        },
        "id": "OR39wsngqj7H",
        "outputId": "c07451e7-7240-40d6-a2f5-0c0ded199151"
      },
      "execution_count": 4,
      "outputs": [
        {
          "output_type": "execute_result",
          "data": {
            "text/plain": [
              "array([-5.        , -4.28571429, -3.57142857, -2.85714286, -2.14285714,\n",
              "       -1.42857143, -0.71428571,  0.        ,  0.71428571,  1.42857143,\n",
              "        2.14285714,  2.85714286,  3.57142857,  4.28571429,  5.        ])"
            ]
          },
          "metadata": {},
          "execution_count": 4
        }
      ]
    },
    {
      "cell_type": "code",
      "source": [
        "import matplotlib.pyplot as plt\n",
        "from mpl_toolkits.mplot3d import Axes3D\n",
        "vector1 = np.array([1,-2,4])\n",
        "vector2 = np.array([2,5,2])\n",
        "dot_product = np.dot(vector1, vector2)\n",
        "print(\"These vectors are orthogonal if the dot product is zero\")\n",
        "print(\"Vector 1:\", vector1)\n",
        "print(\"Vector 2:\", vector2)\n",
        "print(\"Dot product:\", dot_product)"
      ],
      "metadata": {
        "colab": {
          "base_uri": "https://localhost:8080/"
        },
        "id": "Td7vijpDqo00",
        "outputId": "cb3864ec-771c-450e-fc78-290eacd85eb0"
      },
      "execution_count": 6,
      "outputs": [
        {
          "output_type": "stream",
          "name": "stdout",
          "text": [
            "These vectors are orthogonal if the dot product is zero\n",
            "Vector 1: [ 1 -2  4]\n",
            "Vector 2: [2 5 2]\n",
            "Dot product: 0\n"
          ]
        }
      ]
    },
    {
      "cell_type": "code",
      "source": [
        "from numpy.linalg import eig\n",
        "matrix = np.array([[0,2],[2,3]])\n",
        "\n",
        "x,v=eig(matrix)\n",
        "\n",
        "print(\"Eigenvalues: \", x)\n",
        "\n",
        "\n"
      ],
      "metadata": {
        "colab": {
          "base_uri": "https://localhost:8080/"
        },
        "id": "PKAXqtFgsG58",
        "outputId": "c0e3a843-dc82-4c25-c511-dea76ba23f66"
      },
      "execution_count": 9,
      "outputs": [
        {
          "output_type": "stream",
          "name": "stdout",
          "text": [
            "Eigenvalues:  [-1.  4.]\n"
          ]
        }
      ]
    },
    {
      "cell_type": "code",
      "source": [
        "A = ([[1,2,3],[2,3,4],[3,4,5]])\n",
        "w,v=eig(A)\n",
        "print(\"Matrix A: \", A)\n",
        "print(\"Eigenvalues: \", w)"
      ],
      "metadata": {
        "colab": {
          "base_uri": "https://localhost:8080/"
        },
        "id": "KkH7N9glsrY7",
        "outputId": "ab3dc21d-6b19-4598-bc37-9b52df9ecdf5"
      },
      "execution_count": 10,
      "outputs": [
        {
          "output_type": "stream",
          "name": "stdout",
          "text": [
            "Matrix A:  [[1, 2, 3], [2, 3, 4], [3, 4, 5]]\n",
            "Eigenvalues:  [ 9.62347538e+00 -6.23475383e-01  5.02863969e-16]\n"
          ]
        }
      ]
    },
    {
      "cell_type": "code",
      "source": [
        "from re import I\n",
        "from scipy import stats\n",
        "\n",
        "x=[1,2,3,4,5,7,8,121]\n",
        "y=[5,7,9,31,98,600,77,4]\n",
        "\n",
        "slope, intercept, r, p, std_err = stats.linregress(x,y)\n",
        "\n",
        "def myfunc(x): return slope * x + intercept\n",
        "\n",
        "mymodel = list(map(myfunc, x))\n",
        "\n",
        "plt.scatter(x,y)\n",
        "plt.plot(x,mymodel)\n",
        "plt.show()"
      ],
      "metadata": {
        "colab": {
          "base_uri": "https://localhost:8080/",
          "height": 430
        },
        "id": "QEkf7jfqtH3K",
        "outputId": "c1c19927-7dd4-45f8-e35f-47badb9e0dec"
      },
      "execution_count": 12,
      "outputs": [
        {
          "output_type": "display_data",
          "data": {
            "text/plain": [
              "<Figure size 640x480 with 1 Axes>"
            ],
            "image/png": "[encoded data removed]"
          },
          "metadata": {}
        }
      ]
    }
  ]
}