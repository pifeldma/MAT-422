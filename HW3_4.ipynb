{
  "nbformat": 4,
  "nbformat_minor": 0,
  "metadata": {
    "colab": {
      "provenance": [],
      "authorship_tag": "ABX9TyPcg2cQvBJN6KddgS+gHvmQ",
      "include_colab_link": true
    },
    "kernelspec": {
      "name": "python3",
      "display_name": "Python 3"
    },
    "language_info": {
      "name": "python"
    }
  },
  "cells": [
    {
      "cell_type": "markdown",
      "metadata": {
        "id": "view-in-github",
        "colab_type": "text"
      },
      "source": [
        "<a href=\"https://colab.research.google.com/github/pifeldma/MAT-422/blob/main/HW3_4.ipynb\" target=\"_parent\"><img src=\"https://colab.research.google.com/assets/colab-badge.svg\" alt=\"Open In Colab\"/></a>"
      ]
    },
    {
      "cell_type": "markdown",
      "source": [
        "3.4 Logistic Regression"
      ],
      "metadata": {
        "id": "8xnGmDDyAExW"
      }
    },
    {
      "cell_type": "code",
      "source": [
        "import numpy as np\n",
        "from sklearn import linear_model\n",
        "x = np.array([3.1, 2.5, 1.9, 1.8, 2.1, 2.01, 1.89, 1.77, 1.5, 1.22, 1.18, 1.01]).reshape(-1,1)\n",
        "y = np.array([0,0,0,0,0,0,1,1,1,1,1,1])\n",
        "\n",
        "logreg = linear_model.LogisticRegression()\n",
        "logreg.fit(x,y)\n",
        "\n",
        "predict = logreg.predict(np.array([1.64]).reshape(-1,1))\n",
        "print(predict)\n"
      ],
      "metadata": {
        "colab": {
          "base_uri": "https://localhost:8080/"
        },
        "id": "CgbNKDj2ASOQ",
        "outputId": "86dcf1f6-deb6-4eb9-ea52-e82e63068a20"
      },
      "execution_count": 6,
      "outputs": [
        {
          "output_type": "stream",
          "name": "stdout",
          "text": [
            "[1]\n"
          ]
        }
      ]
    }
  ]
}