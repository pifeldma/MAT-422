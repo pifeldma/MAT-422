{
  "nbformat": 4,
  "nbformat_minor": 0,
  "metadata": {
    "colab": {
      "provenance": [],
      "authorship_tag": "ABX9TyNXU+nKsQaew9sa/v/DVJzt",
      "include_colab_link": true
    },
    "kernelspec": {
      "name": "python3",
      "display_name": "Python 3"
    },
    "language_info": {
      "name": "python"
    }
  },
  "cells": [
    {
      "cell_type": "markdown",
      "metadata": {
        "id": "view-in-github",
        "colab_type": "text"
      },
      "source": [
        "<a href=\"https://colab.research.google.com/github/pifeldma/MAT-422/blob/main/HW3_2.ipynb\" target=\"_parent\"><img src=\"https://colab.research.google.com/assets/colab-badge.svg\" alt=\"Open In Colab\"/></a>"
      ]
    },
    {
      "cell_type": "markdown",
      "source": [
        "3.2.1. Limits and continuity\n"
      ],
      "metadata": {
        "id": "ahH8FKQKPtFq"
      }
    },
    {
      "cell_type": "code",
      "source": [
        "from sympy import *\n",
        "\n",
        "x = symbols('x')\n",
        "expression = sin(x)/x;\n",
        "\n",
        "print(\"Expression : {}\".format(expression))\n",
        "\n",
        "limit_expression = limit(expression, x, 0)\n",
        "print(\"The limit of the expression as x tends to 0 : {}\".format(limit_expression))"
      ],
      "metadata": {
        "colab": {
          "base_uri": "https://localhost:8080/"
        },
        "id": "UZ51uRUVP4EB",
        "outputId": "4e5693f8-c4c1-4702-eb43-ad085e83eced"
      },
      "execution_count": 1,
      "outputs": [
        {
          "output_type": "stream",
          "name": "stdout",
          "text": [
            "Expression : sin(x)/x\n",
            "The limit of the expression as x tends to 0 : 1\n"
          ]
        }
      ]
    },
    {
      "cell_type": "markdown",
      "source": [
        "3.2.2. Derivatives\n"
      ],
      "metadata": {
        "id": "yoH6dMLsPwZE"
      }
    },
    {
      "cell_type": "code",
      "source": [
        "from sympy import *\n",
        "\n",
        "x = Symbol('x')\n",
        "\n",
        "f = 2*x + 3\n",
        "f_prime = f.diff(x)\n",
        "\n",
        "print(\"f(x)=\")\n",
        "print(f)\n",
        "print(\"f'(x)=\")\n",
        "print(f_prime)"
      ],
      "metadata": {
        "colab": {
          "base_uri": "https://localhost:8080/"
        },
        "id": "E-Udb-qiJ7DO",
        "outputId": "1522027d-79dc-433e-a1b1-791de9a1b9db"
      },
      "execution_count": 3,
      "outputs": [
        {
          "output_type": "stream",
          "name": "stdout",
          "text": [
            "f(x)=\n",
            "2*x + 3\n",
            "f'(x)=\n",
            "2\n"
          ]
        }
      ]
    },
    {
      "cell_type": "markdown",
      "source": [
        "3.2.3. Taylor’s theorem"
      ],
      "metadata": {
        "id": "WfGzm0CcPx82"
      }
    },
    {
      "cell_type": "code",
      "source": [
        "import math\n",
        "x = 2\n",
        "e_sq = 0\n",
        "for i in range(100):\n",
        "  e_sq += x**i/math.factorial(i)\n",
        "\n",
        "print(e_sq)"
      ],
      "metadata": {
        "colab": {
          "base_uri": "https://localhost:8080/"
        },
        "id": "yy0JpVdJK9EQ",
        "outputId": "955a6592-1ec0-41f0-9878-ce70e0a919cb"
      },
      "execution_count": 4,
      "outputs": [
        {
          "output_type": "stream",
          "name": "stdout",
          "text": [
            "7.389056098930649\n"
          ]
        }
      ]
    }
  ]
}