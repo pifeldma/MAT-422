{
  "nbformat": 4,
  "nbformat_minor": 0,
  "metadata": {
    "colab": {
      "provenance": [],
      "authorship_tag": "ABX9TyN8E9Ef0I4MTLd2rhIzETrI",
      "include_colab_link": true
    },
    "kernelspec": {
      "name": "python3",
      "display_name": "Python 3"
    },
    "language_info": {
      "name": "python"
    }
  },
  "cells": [
    {
      "cell_type": "markdown",
      "metadata": {
        "id": "view-in-github",
        "colab_type": "text"
      },
      "source": [
        "<a href=\"https://colab.research.google.com/github/pifeldma/MAT-422/blob/main/HW1_2PaigeFeldman.ipynb\" target=\"_parent\"><img src=\"https://colab.research.google.com/assets/colab-badge.svg\" alt=\"Open In Colab\"/></a>"
      ]
    },
    {
      "cell_type": "code",
      "execution_count": null,
      "metadata": {
        "id": "lCR4I313tDnC"
      },
      "outputs": [],
      "source": []
    },
    {
      "cell_type": "markdown",
      "source": [
        "Homework 1.2 Elements of Linear Algebra\n"
      ],
      "metadata": {
        "id": "b_ByxT37tG51"
      }
    },
    {
      "cell_type": "markdown",
      "source": [
        "Linear Spaces\n",
        "Linear Combinations"
      ],
      "metadata": {
        "id": "khBaYrZAtvKk"
      }
    },
    {
      "cell_type": "code",
      "source": [
        "import numpy as np\n",
        "vector1 = [ 1, 2, 3, 4]\n",
        "vector2 = [21, 4, 8, 16]\n",
        "vector3 = [3, -3, 9, 7]\n",
        "vector4 = [6, 16, 19, 101]\n",
        "a = np.array(vector1)\n",
        "b = np.array(vector2)\n",
        "c = np.array(vector3)\n",
        "d = np.array(vector4)\n",
        "print(\"Vectors 1, 2, 3, and 4\")\n",
        "print(a,b,c,d)\n",
        "print(f\"Linear Combination: 7*vector1 + 9*vector2 + 2*vector3 + 5*vector4 \\n{7*a + 9*b + 2*c + 5*d}\")\n"
      ],
      "metadata": {
        "colab": {
          "base_uri": "https://localhost:8080/"
        },
        "id": "8M2S5nVktPLy",
        "outputId": "07dba08f-6c32-4777-a36c-bab2e0baa551"
      },
      "execution_count": 3,
      "outputs": [
        {
          "output_type": "stream",
          "name": "stdout",
          "text": [
            "Vectors 1, 2, 3, and 4\n",
            "[1 2 3 4] [21  4  8 16] [ 3 -3  9  7] [  6  16  19 101]\n",
            "Linear Combination: 7*vector1 + 9*vector2 + 2*vector3 + 5*vector4 \n",
            "[232 124 206 691]\n"
          ]
        }
      ]
    },
    {
      "cell_type": "markdown",
      "source": [
        "Orthogonality Pythagorean Theorem"
      ],
      "metadata": {
        "id": "7RO7uYRDyw7Y"
      }
    },
    {
      "cell_type": "code",
      "source": [
        "import numpy as np\n",
        "print('Let u,v be orthogonal vectors')\n",
        "u = [5, 3, 2]\n",
        "v = [0, 2, -3]\n",
        "x = np.array(u)\n",
        "y = np.array(v)\n",
        "print(x,y)\n",
        "m1 = np.dot(x, x)\n",
        "m2 =np.dot(y,y)\n",
        "print(f'Sum of the norms of the orthogonal vectors: {m1 + m2}')\n",
        "n = x + y\n",
        "o = np.dot(n,n)\n",
        "print(f'the norm of the sum of the orthogonal vectors: {o}')\n",
        "if o == m1+m2:\n",
        "  print(\"So, The Pythagorean Theorem is True\")\n"
      ],
      "metadata": {
        "colab": {
          "base_uri": "https://localhost:8080/"
        },
        "id": "6--TQLrZy4gb",
        "outputId": "767c2b3e-cddb-4eb6-a24b-e2b1d53328ee"
      },
      "execution_count": 34,
      "outputs": [
        {
          "output_type": "stream",
          "name": "stdout",
          "text": [
            "Let u,v be orthogonal vectors\n",
            "[5 3 2] [ 0  2 -3]\n",
            "Sum of the norms of the orthogonal vectors: 51\n",
            "the norm of the sum of the orthogonal vectors: 51\n",
            "So, The Pythagorean Theorem is True\n"
          ]
        }
      ]
    },
    {
      "cell_type": "markdown",
      "source": [
        "Gram-Schmidt Process"
      ],
      "metadata": {
        "id": "8uvsP01R3e_y"
      }
    },
    {
      "cell_type": "code",
      "source": [
        "import numpy as np\n",
        "print('Let u,v be linearly independent vectors')\n",
        "u = [1,1,0]\n",
        "v = [2,1,1]\n",
        "x = np.array(u)\n",
        "y = np.array(v)\n",
        "print(x,y)\n",
        "n1 = np.linalg.norm(u)\n",
        "n2 = np.linalg.norm(v)\n",
        "new_x = x / n1\n",
        "innerp = np.dot(x,y) / n1\n",
        "w = y - innerp*new_x\n",
        "normw = np.linalg.norm(w)\n",
        "new_w = w / normw\n",
        "print(f'Our new vectors e1, e2 are orthonormal and have the same span as u,v')\n",
        "print(new_x, new_w)"
      ],
      "metadata": {
        "colab": {
          "base_uri": "https://localhost:8080/"
        },
        "id": "lZKu4ZzY4QIe",
        "outputId": "dc8ec5c7-70b0-42d5-ff94-bf04313c9923"
      },
      "execution_count": 43,
      "outputs": [
        {
          "output_type": "stream",
          "name": "stdout",
          "text": [
            "Let u,v be linearly independent vectors\n",
            "[1 1 0] [2 1 1]\n",
            "Our new vectors e1, e2 are orthonormal and have the same span as u,v\n",
            "[0.70710678 0.70710678 0.        ] [ 0.40824829 -0.40824829  0.81649658]\n"
          ]
        }
      ]
    },
    {
      "cell_type": "markdown",
      "source": [
        "Eigenvalues and Eigenvectors"
      ],
      "metadata": {
        "id": "0jkwibaT7nyo"
      }
    },
    {
      "cell_type": "code",
      "source": [
        "import numpy as np\n",
        "a = [[-5,2],[-7,4]]\n",
        "b = [[1],[1]]\n",
        "x = np.array(a)\n",
        "y = np.array(b)\n",
        "print(f\"Vector a: \\n{x}\")\n",
        "print(f\"Vector b: \\n{y}\")\n",
        "dot = np.dot(x,y)\n",
        "print(f'a*b = \\n{dot}')\n",
        "print(f'Since a*b is a multiple of vector b, b is an eigenvector of a with eigenvalue -3')\n",
        "\n"
      ],
      "metadata": {
        "colab": {
          "base_uri": "https://localhost:8080/"
        },
        "id": "Xdj4MIfm8Ne8",
        "outputId": "8950263f-b82c-48c3-b551-6f6a48009fda"
      },
      "execution_count": 51,
      "outputs": [
        {
          "output_type": "stream",
          "name": "stdout",
          "text": [
            "Vector a: \n",
            "[[-5  2]\n",
            " [-7  4]]\n",
            "Vector b: \n",
            "[[1]\n",
            " [1]]\n",
            "a*b = \n",
            "[[-3]\n",
            " [-3]]\n",
            "Since a*b is a multiple of vector b, b is an eigenvector of a with eigenvalue -3\n"
          ]
        }
      ]
    }
  ]
}