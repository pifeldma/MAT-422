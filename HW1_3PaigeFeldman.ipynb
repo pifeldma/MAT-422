{
  "nbformat": 4,
  "nbformat_minor": 0,
  "metadata": {
    "colab": {
      "provenance": [],
      "authorship_tag": "ABX9TyO+CviBHwLeUr4ZK6eGhv6T",
      "include_colab_link": true
    },
    "kernelspec": {
      "name": "python3",
      "display_name": "Python 3"
    },
    "language_info": {
      "name": "python"
    }
  },
  "cells": [
    {
      "cell_type": "markdown",
      "metadata": {
        "id": "view-in-github",
        "colab_type": "text"
      },
      "source": [
        "<a href=\"https://colab.research.google.com/github/pifeldma/MAT-422/blob/main/HW1_3PaigeFeldman.ipynb\" target=\"_parent\"><img src=\"https://colab.research.google.com/assets/colab-badge.svg\" alt=\"Open In Colab\"/></a>"
      ]
    },
    {
      "cell_type": "markdown",
      "source": [
        "1.3 Linear Regression\n",
        "\n",
        "QR Decomposition"
      ],
      "metadata": {
        "id": "xTIYArMIhnkG"
      }
    },
    {
      "cell_type": "code",
      "source": [
        "import numpy as np\n",
        "print('Let A be a random 3 by 3 matrix')\n",
        "A = np.random.randint(9, size = (3, 3))\n",
        "print('When we have two m by n matrices, A and Q, we can find and R such that A = QR.')\n",
        "Q, R = np.linalg.qr(A)\n",
        "print('A: \\n', A, '\\n Q: \\n', Q, '\\n R: \\n', R)"
      ],
      "metadata": {
        "colab": {
          "base_uri": "https://localhost:8080/"
        },
        "id": "DyMzvePehwmE",
        "outputId": "d103f656-c404-4a31-db5a-c7a13b5b7e5b"
      },
      "execution_count": 1,
      "outputs": [
        {
          "output_type": "stream",
          "name": "stdout",
          "text": [
            "Let A be a random 3 by 3 matrix\n",
            "When we have two m by n matrices, A and Q, we can find and R such that A = QR.\n",
            "A: \n",
            " [[5 3 5]\n",
            " [7 8 4]\n",
            " [6 3 1]] \n",
            " Q: \n",
            " [[-0.47673129  0.33075213 -0.81445092]\n",
            " [-0.66742381 -0.73915911  0.09049455]\n",
            " [-0.57207755  0.58672552  0.57313213]] \n",
            " R: \n",
            " [[-10.48808848  -8.48581704  -5.62542928]\n",
            " [  0.          -3.16083993  -0.71615027]\n",
            " [  0.           0.          -3.13714428]]\n"
          ]
        }
      ]
    },
    {
      "cell_type": "markdown",
      "source": [
        "Least-squares Problems"
      ],
      "metadata": {
        "id": "OxuDavATk_J2"
      }
    },
    {
      "cell_type": "code",
      "source": [
        "print('Using our matrices above, we now let b be an m by 1 matrix')\n",
        "b = np.random.randint(9, size = (3, 1))\n",
        "print('We want to solve for x in Ax = b by using the least-squares method')\n",
        "x = np.linalg.lstsq(A, b, rcond = -1)\n",
        "y = np.matmul(A, x[0])\n",
        "print('A: \\n', A, '\\n b: \\n', b, '\\n x: \\n', x[0], '\\n Ax \\n', y)\n",
        "print('Our Ax should give us a similar value to b')"
      ],
      "metadata": {
        "colab": {
          "base_uri": "https://localhost:8080/"
        },
        "id": "0MF21hSrlXDj",
        "outputId": "9d639ced-46dd-41c2-84ee-ddec9980f20f"
      },
      "execution_count": 18,
      "outputs": [
        {
          "output_type": "stream",
          "name": "stdout",
          "text": [
            "Using our matrices above, we now let b be an m by 1 matrix\n",
            "We want to solve for x in Ax = b by using the least-squares method\n",
            "A: \n",
            " [[5 3 5]\n",
            " [7 8 4]\n",
            " [6 3 1]] \n",
            " b: \n",
            " [[0]\n",
            " [0]\n",
            " [4]] \n",
            " x: \n",
            " [[ 1.07692308]\n",
            " [-0.57692308]\n",
            " [-0.73076923]] \n",
            " Ax \n",
            " [[ 2.44249065e-15]\n",
            " [-1.77635684e-15]\n",
            " [ 4.00000000e+00]]\n",
            "Our Ax should give us a similar value to b\n"
          ]
        }
      ]
    }
  ]
}