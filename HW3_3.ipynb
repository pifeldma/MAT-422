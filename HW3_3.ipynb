{
  "nbformat": 4,
  "nbformat_minor": 0,
  "metadata": {
    "colab": {
      "provenance": [],
      "authorship_tag": "ABX9TyN+PiXT8mn5njmY2gBEjYf1",
      "include_colab_link": true
    },
    "kernelspec": {
      "name": "python3",
      "display_name": "Python 3"
    },
    "language_info": {
      "name": "python"
    }
  },
  "cells": [
    {
      "cell_type": "markdown",
      "metadata": {
        "id": "view-in-github",
        "colab_type": "text"
      },
      "source": [
        "<a href=\"https://colab.research.google.com/github/pifeldma/MAT-422/blob/main/HW3_3.ipynb\" target=\"_parent\"><img src=\"https://colab.research.google.com/assets/colab-badge.svg\" alt=\"Open In Colab\"/></a>"
      ]
    },
    {
      "cell_type": "markdown",
      "source": [
        "3.3 Unconstrained Optimization"
      ],
      "metadata": {
        "id": "ktqUTKdvy-hh"
      }
    },
    {
      "cell_type": "markdown",
      "source": [
        "3.3.1 Necessary and sufficient conditions of local minimizers\n",
        "3.3.2 Convexity and global minimizers\n",
        "3.3.3 Gradient descent"
      ],
      "metadata": {
        "id": "pHRxVtGHzDAS"
      }
    },
    {
      "cell_type": "code",
      "source": [
        "import numpy as np\n",
        "import scipy.optimize as opt\n",
        "def f(x):\n",
        "  return x**2+np.cos(x)\n",
        "result = opt.minimize(f,x0=-2)\n",
        "print(result.message)\n",
        "print(result.fun)\n",
        "print(result.x)"
      ],
      "metadata": {
        "colab": {
          "base_uri": "https://localhost:8080/"
        },
        "id": "QO_mDKlreynF",
        "outputId": "9d19db67-bbd4-4306-8d05-f7024e4fdbd0"
      },
      "execution_count": 4,
      "outputs": [
        {
          "output_type": "stream",
          "name": "stdout",
          "text": [
            "Optimization terminated successfully.\n",
            "1.0000000000013982\n",
            "[-1.67219343e-06]\n"
          ]
        }
      ]
    },
    {
      "cell_type": "code",
      "source": [
        "import numpy as np\n",
        "from scipy.signal import argrelextrema\n",
        "\n",
        "x=np.random.random(12)\n",
        "argrelextrema(x, np.greater)\n",
        "argrelextrema(x, np.less)"
      ],
      "metadata": {
        "colab": {
          "base_uri": "https://localhost:8080/"
        },
        "id": "lalU8VhC-0Zp",
        "outputId": "35cc1e0b-6fc0-4e27-fab8-d6ad2024da62"
      },
      "execution_count": 5,
      "outputs": [
        {
          "output_type": "execute_result",
          "data": {
            "text/plain": [
              "(array([2, 5, 7, 9]),)"
            ]
          },
          "metadata": {},
          "execution_count": 5
        }
      ]
    },
    {
      "cell_type": "code",
      "source": [
        "import numpy as np\n",
        "def gradient_descent(gradient, start, learn_rate, n_iter=50, tolerance=1e-06):\n",
        "  vector = start\n",
        "  for _ in range(n_iter):\n",
        "    diff = -learn_rate*gradient(vector)\n",
        "    if np.all(np.abs(diff) <= tolerance):\n",
        "      break\n",
        "    vector += diff\n",
        "  return vector\n",
        "\n",
        ""
      ],
      "metadata": {
        "id": "DyW8TKWugQL5"
      },
      "execution_count": 8,
      "outputs": []
    }
  ]
}